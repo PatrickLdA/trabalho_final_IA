{
 "cells": [
  {
   "cell_type": "markdown",
   "metadata": {},
   "source": [
    "# Objetivo\n",
    "O objetivo deste trabalho é reproduzir o trabalho feito por [Ali Al Bataineh e Devinder Kaur](https://ieeexplore.ieee.org/abstract/document/8556738) e depois introduzir um algoritmo de Feature Selection e analisar o ganho de performance, como custo computacional para treinar o modelo e performance geral. O trabalho será usado como trabalho final na matéria de Inteligência Artificial, ministrada para os alunos da pós em Ciência da Computação pela Universidade Federal de Uberlândia (UFU), em 2021-2.\n",
    "\n",
    "Alunos: Marcos Tomé, Patrick Araújo e Pedro Reis"
   ]
  },
  {
   "cell_type": "markdown",
   "metadata": {},
   "source": [
    "# Introdução\n",
    "A base de dados usada neste estudo chama-se [Boston House Prices](https://www.kaggle.com/vikrishnan/boston-house-prices/version/1) e contém dados oriundos do US Census Service, que levantou o preço de casas na região de Boston, MA em 1970\n",
    "\n",
    "A base contém 14 atributos, sendo:\n",
    "\n",
    "1. CRIM: taxa de crimes per capita na cidade;\n",
    "2. ZN: proporção de terrenos residenciaiszoneados para lotes com mais de 25.000 pés quadrados;\n",
    "3. INDUS: proporção de acres de negócios não varejistas na cidade;\n",
    "3. CHAS: variável que indica áreas tangentes a rios (1 se a área é tangente a um rio, 0 caso contrário);\n",
    "4. NOX: concentração de óxidos nítricos (em partes por 10 milhões);\n",
    "5. RM: número médio de quartos por residência;\n",
    "6. AGE: proporção de unidades ocupadas que foram construídas antes de 1940;\n",
    "7. DIS: distâncias podenradas para cinco centros comerciais;\n",
    "8. RAD: índice de acessibilidade às rodovias radiais;\n",
    "9. TAX: valor total da taxa de imposto sobre a propriedade por U$10.000;\n",
    "10. PTRATIO: proporção aluno-professor na cidade;\n",
    "11. B: 1000(Bk - 0.63)² onde Bk é a proporção de negros na cidade;\n",
    "12. LSTAT: porcentagem da camada inferior da população;\n",
    "13. MEDV: valor médio das casas ocupadas pelos proprietários em U$1.000."
   ]
  },
  {
   "cell_type": "markdown",
   "metadata": {},
   "source": [
    "# Parte 1 - Reprodução do trabalho"
   ]
  },
  {
   "cell_type": "code",
   "execution_count": 1,
   "metadata": {},
   "outputs": [],
   "source": [
    "import os\n",
    "import sys\n",
    "\n",
    "if not os.path.exists('tf-levenberg-marquardt'):\n",
    "    os.system('git clone  https://github.com/fabiodimarco/tf-levenberg-marquardt')\n",
    "\n",
    "sys.path.append('tf-levenberg-marquardt')"
   ]
  },
  {
   "cell_type": "code",
   "execution_count": 2,
   "metadata": {},
   "outputs": [],
   "source": [
    "# Import libraries necessary for this project\n",
    "import numpy as np\n",
    "import pandas as pd\n",
    "import os\n",
    "import seaborn as sns\n",
    "import time \n",
    "\n",
    "from sklearn.model_selection import train_test_split\n",
    "from sklearn.preprocessing import MinMaxScaler\n",
    "\n",
    "import tensorflow as tf\n",
    "from tensorflow.keras.models import Sequential\n",
    "from tensorflow.keras.layers import Dense, Input\n",
    "\n",
    "from tensorflow.keras.callbacks import Callback\n",
    "import warnings\n",
    "\n",
    "import levenberg_marquardt as lm\n",
    "\n",
    "# Pretty display for notebooks\n",
    "%matplotlib inline\n",
    "\n",
    "from BorutaShap import BorutaShap"
   ]
  },
  {
   "cell_type": "code",
   "execution_count": 3,
   "metadata": {},
   "outputs": [
    {
     "data": {
      "text/html": [
       "<div>\n",
       "<style scoped>\n",
       "    .dataframe tbody tr th:only-of-type {\n",
       "        vertical-align: middle;\n",
       "    }\n",
       "\n",
       "    .dataframe tbody tr th {\n",
       "        vertical-align: top;\n",
       "    }\n",
       "\n",
       "    .dataframe thead th {\n",
       "        text-align: right;\n",
       "    }\n",
       "</style>\n",
       "<table border=\"1\" class=\"dataframe\">\n",
       "  <thead>\n",
       "    <tr style=\"text-align: right;\">\n",
       "      <th></th>\n",
       "      <th>CRIM</th>\n",
       "      <th>ZN</th>\n",
       "      <th>INDUS</th>\n",
       "      <th>CHAS</th>\n",
       "      <th>NOX</th>\n",
       "      <th>RM</th>\n",
       "      <th>AGE</th>\n",
       "      <th>DIS</th>\n",
       "      <th>RAD</th>\n",
       "      <th>TAX</th>\n",
       "      <th>PTRATIO</th>\n",
       "      <th>B</th>\n",
       "      <th>LSTAT</th>\n",
       "      <th>MEDV</th>\n",
       "    </tr>\n",
       "  </thead>\n",
       "  <tbody>\n",
       "    <tr>\n",
       "      <th>0</th>\n",
       "      <td>0.00632</td>\n",
       "      <td>18.0</td>\n",
       "      <td>2.31</td>\n",
       "      <td>0</td>\n",
       "      <td>0.538</td>\n",
       "      <td>6.575</td>\n",
       "      <td>65.2</td>\n",
       "      <td>4.0900</td>\n",
       "      <td>1</td>\n",
       "      <td>296.0</td>\n",
       "      <td>15.3</td>\n",
       "      <td>396.90</td>\n",
       "      <td>4.98</td>\n",
       "      <td>24.0</td>\n",
       "    </tr>\n",
       "    <tr>\n",
       "      <th>1</th>\n",
       "      <td>0.02731</td>\n",
       "      <td>0.0</td>\n",
       "      <td>7.07</td>\n",
       "      <td>0</td>\n",
       "      <td>0.469</td>\n",
       "      <td>6.421</td>\n",
       "      <td>78.9</td>\n",
       "      <td>4.9671</td>\n",
       "      <td>2</td>\n",
       "      <td>242.0</td>\n",
       "      <td>17.8</td>\n",
       "      <td>396.90</td>\n",
       "      <td>9.14</td>\n",
       "      <td>21.6</td>\n",
       "    </tr>\n",
       "    <tr>\n",
       "      <th>2</th>\n",
       "      <td>0.02729</td>\n",
       "      <td>0.0</td>\n",
       "      <td>7.07</td>\n",
       "      <td>0</td>\n",
       "      <td>0.469</td>\n",
       "      <td>7.185</td>\n",
       "      <td>61.1</td>\n",
       "      <td>4.9671</td>\n",
       "      <td>2</td>\n",
       "      <td>242.0</td>\n",
       "      <td>17.8</td>\n",
       "      <td>392.83</td>\n",
       "      <td>4.03</td>\n",
       "      <td>34.7</td>\n",
       "    </tr>\n",
       "    <tr>\n",
       "      <th>3</th>\n",
       "      <td>0.03237</td>\n",
       "      <td>0.0</td>\n",
       "      <td>2.18</td>\n",
       "      <td>0</td>\n",
       "      <td>0.458</td>\n",
       "      <td>6.998</td>\n",
       "      <td>45.8</td>\n",
       "      <td>6.0622</td>\n",
       "      <td>3</td>\n",
       "      <td>222.0</td>\n",
       "      <td>18.7</td>\n",
       "      <td>394.63</td>\n",
       "      <td>2.94</td>\n",
       "      <td>33.4</td>\n",
       "    </tr>\n",
       "    <tr>\n",
       "      <th>4</th>\n",
       "      <td>0.06905</td>\n",
       "      <td>0.0</td>\n",
       "      <td>2.18</td>\n",
       "      <td>0</td>\n",
       "      <td>0.458</td>\n",
       "      <td>7.147</td>\n",
       "      <td>54.2</td>\n",
       "      <td>6.0622</td>\n",
       "      <td>3</td>\n",
       "      <td>222.0</td>\n",
       "      <td>18.7</td>\n",
       "      <td>396.90</td>\n",
       "      <td>5.33</td>\n",
       "      <td>36.2</td>\n",
       "    </tr>\n",
       "  </tbody>\n",
       "</table>\n",
       "</div>"
      ],
      "text/plain": [
       "      CRIM    ZN  INDUS  CHAS    NOX     RM   AGE     DIS  RAD    TAX  \\\n",
       "0  0.00632  18.0   2.31     0  0.538  6.575  65.2  4.0900    1  296.0   \n",
       "1  0.02731   0.0   7.07     0  0.469  6.421  78.9  4.9671    2  242.0   \n",
       "2  0.02729   0.0   7.07     0  0.469  7.185  61.1  4.9671    2  242.0   \n",
       "3  0.03237   0.0   2.18     0  0.458  6.998  45.8  6.0622    3  222.0   \n",
       "4  0.06905   0.0   2.18     0  0.458  7.147  54.2  6.0622    3  222.0   \n",
       "\n",
       "   PTRATIO       B  LSTAT  MEDV  \n",
       "0     15.3  396.90   4.98  24.0  \n",
       "1     17.8  396.90   9.14  21.6  \n",
       "2     17.8  392.83   4.03  34.7  \n",
       "3     18.7  394.63   2.94  33.4  \n",
       "4     18.7  396.90   5.33  36.2  "
      ]
     },
     "execution_count": 3,
     "metadata": {},
     "output_type": "execute_result"
    }
   ],
   "source": [
    "#column names for house features\n",
    "column_names = ['CRIM', 'ZN', 'INDUS', 'CHAS', 'NOX', 'RM', 'AGE', 'DIS', 'RAD', 'TAX', 'PTRATIO', 'B', 'LSTAT', 'MEDV']\n",
    "\n",
    "#assigning columns names to our data\n",
    "data = pd.read_csv(\"housing.csv\", header=None, delimiter=r\"\\s+\", names=column_names)\n",
    "\n",
    "data.head()"
   ]
  },
  {
   "cell_type": "code",
   "execution_count": 4,
   "metadata": {},
   "outputs": [
    {
     "data": {
      "text/plain": [
       "<AxesSubplot:xlabel='MEDV', ylabel='Density'>"
      ]
     },
     "execution_count": 4,
     "metadata": {},
     "output_type": "execute_result"
    },
    {
     "data": {
      "image/png": "[encoded data removed]",
      "text/plain": [
       "<Figure size 432x288 with 1 Axes>"
      ]
     },
     "metadata": {
      "needs_background": "light"
     },
     "output_type": "display_data"
    }
   ],
   "source": [
    "# Visualização da distribuição dos preços dos imóveis\n",
    "sns.distplot(data['MEDV'])"
   ]
  },
  {
   "cell_type": "code",
   "execution_count": 5,
   "metadata": {},
   "outputs": [
    {
     "data": {
      "text/html": [
       "<div>\n",
       "<style scoped>\n",
       "    .dataframe tbody tr th:only-of-type {\n",
       "        vertical-align: middle;\n",
       "    }\n",
       "\n",
       "    .dataframe tbody tr th {\n",
       "        vertical-align: top;\n",
       "    }\n",
       "\n",
       "    .dataframe thead th {\n",
       "        text-align: right;\n",
       "    }\n",
       "</style>\n",
       "<table border=\"1\" class=\"dataframe\">\n",
       "  <thead>\n",
       "    <tr style=\"text-align: right;\">\n",
       "      <th></th>\n",
       "      <th>CRIM</th>\n",
       "      <th>ZN</th>\n",
       "      <th>INDUS</th>\n",
       "      <th>CHAS</th>\n",
       "      <th>NOX</th>\n",
       "      <th>RM</th>\n",
       "      <th>AGE</th>\n",
       "      <th>DIS</th>\n",
       "      <th>RAD</th>\n",
       "      <th>TAX</th>\n",
       "      <th>PTRATIO</th>\n",
       "      <th>B</th>\n",
       "      <th>LSTAT</th>\n",
       "      <th>MEDV</th>\n",
       "    </tr>\n",
       "  </thead>\n",
       "  <tbody>\n",
       "    <tr>\n",
       "      <th>count</th>\n",
       "      <td>506.000000</td>\n",
       "      <td>506.000000</td>\n",
       "      <td>506.000000</td>\n",
       "      <td>506.000000</td>\n",
       "      <td>506.000000</td>\n",
       "      <td>506.000000</td>\n",
       "      <td>506.000000</td>\n",
       "      <td>506.000000</td>\n",
       "      <td>506.000000</td>\n",
       "      <td>506.000000</td>\n",
       "      <td>506.000000</td>\n",
       "      <td>506.000000</td>\n",
       "      <td>506.000000</td>\n",
       "      <td>506.000000</td>\n",
       "    </tr>\n",
       "    <tr>\n",
       "      <th>mean</th>\n",
       "      <td>3.613524</td>\n",
       "      <td>11.363636</td>\n",
       "      <td>11.136779</td>\n",
       "      <td>0.069170</td>\n",
       "      <td>0.554695</td>\n",
       "      <td>6.284634</td>\n",
       "      <td>68.574901</td>\n",
       "      <td>3.795043</td>\n",
       "      <td>9.549407</td>\n",
       "      <td>408.237154</td>\n",
       "      <td>18.455534</td>\n",
       "      <td>356.674032</td>\n",
       "      <td>12.653063</td>\n",
       "      <td>22.532806</td>\n",
       "    </tr>\n",
       "    <tr>\n",
       "      <th>std</th>\n",
       "      <td>8.601545</td>\n",
       "      <td>23.322453</td>\n",
       "      <td>6.860353</td>\n",
       "      <td>0.253994</td>\n",
       "      <td>0.115878</td>\n",
       "      <td>0.702617</td>\n",
       "      <td>28.148861</td>\n",
       "      <td>2.105710</td>\n",
       "      <td>8.707259</td>\n",
       "      <td>168.537116</td>\n",
       "      <td>2.164946</td>\n",
       "      <td>91.294864</td>\n",
       "      <td>7.141062</td>\n",
       "      <td>9.197104</td>\n",
       "    </tr>\n",
       "    <tr>\n",
       "      <th>min</th>\n",
       "      <td>0.006320</td>\n",
       "      <td>0.000000</td>\n",
       "      <td>0.460000</td>\n",
       "      <td>0.000000</td>\n",
       "      <td>0.385000</td>\n",
       "      <td>3.561000</td>\n",
       "      <td>2.900000</td>\n",
       "      <td>1.129600</td>\n",
       "      <td>1.000000</td>\n",
       "      <td>187.000000</td>\n",
       "      <td>12.600000</td>\n",
       "      <td>0.320000</td>\n",
       "      <td>1.730000</td>\n",
       "      <td>5.000000</td>\n",
       "    </tr>\n",
       "    <tr>\n",
       "      <th>25%</th>\n",
       "      <td>0.082045</td>\n",
       "      <td>0.000000</td>\n",
       "      <td>5.190000</td>\n",
       "      <td>0.000000</td>\n",
       "      <td>0.449000</td>\n",
       "      <td>5.885500</td>\n",
       "      <td>45.025000</td>\n",
       "      <td>2.100175</td>\n",
       "      <td>4.000000</td>\n",
       "      <td>279.000000</td>\n",
       "      <td>17.400000</td>\n",
       "      <td>375.377500</td>\n",
       "      <td>6.950000</td>\n",
       "      <td>17.025000</td>\n",
       "    </tr>\n",
       "    <tr>\n",
       "      <th>50%</th>\n",
       "      <td>0.256510</td>\n",
       "      <td>0.000000</td>\n",
       "      <td>9.690000</td>\n",
       "      <td>0.000000</td>\n",
       "      <td>0.538000</td>\n",
       "      <td>6.208500</td>\n",
       "      <td>77.500000</td>\n",
       "      <td>3.207450</td>\n",
       "      <td>5.000000</td>\n",
       "      <td>330.000000</td>\n",
       "      <td>19.050000</td>\n",
       "      <td>391.440000</td>\n",
       "      <td>11.360000</td>\n",
       "      <td>21.200000</td>\n",
       "    </tr>\n",
       "    <tr>\n",
       "      <th>75%</th>\n",
       "      <td>3.677083</td>\n",
       "      <td>12.500000</td>\n",
       "      <td>18.100000</td>\n",
       "      <td>0.000000</td>\n",
       "      <td>0.624000</td>\n",
       "      <td>6.623500</td>\n",
       "      <td>94.075000</td>\n",
       "      <td>5.188425</td>\n",
       "      <td>24.000000</td>\n",
       "      <td>666.000000</td>\n",
       "      <td>20.200000</td>\n",
       "      <td>396.225000</td>\n",
       "      <td>16.955000</td>\n",
       "      <td>25.000000</td>\n",
       "    </tr>\n",
       "    <tr>\n",
       "      <th>max</th>\n",
       "      <td>88.976200</td>\n",
       "      <td>100.000000</td>\n",
       "      <td>27.740000</td>\n",
       "      <td>1.000000</td>\n",
       "      <td>0.871000</td>\n",
       "      <td>8.780000</td>\n",
       "      <td>100.000000</td>\n",
       "      <td>12.126500</td>\n",
       "      <td>24.000000</td>\n",
       "      <td>711.000000</td>\n",
       "      <td>22.000000</td>\n",
       "      <td>396.900000</td>\n",
       "      <td>37.970000</td>\n",
       "      <td>50.000000</td>\n",
       "    </tr>\n",
       "  </tbody>\n",
       "</table>\n",
       "</div>"
      ],
      "text/plain": [
       "             CRIM          ZN       INDUS        CHAS         NOX          RM  \\\n",
       "count  506.000000  506.000000  506.000000  506.000000  506.000000  506.000000   \n",
       "mean     3.613524   11.363636   11.136779    0.069170    0.554695    6.284634   \n",
       "std      8.601545   23.322453    6.860353    0.253994    0.115878    0.702617   \n",
       "min      0.006320    0.000000    0.460000    0.000000    0.385000    3.561000   \n",
       "25%      0.082045    0.000000    5.190000    0.000000    0.449000    5.885500   \n",
       "50%      0.256510    0.000000    9.690000    0.000000    0.538000    6.208500   \n",
       "75%      3.677083   12.500000   18.100000    0.000000    0.624000    6.623500   \n",
       "max     88.976200  100.000000   27.740000    1.000000    0.871000    8.780000   \n",
       "\n",
       "              AGE         DIS         RAD         TAX     PTRATIO           B  \\\n",
       "count  506.000000  506.000000  506.000000  506.000000  506.000000  506.000000   \n",
       "mean    68.574901    3.795043    9.549407  408.237154   18.455534  356.674032   \n",
       "std     28.148861    2.105710    8.707259  168.537116    2.164946   91.294864   \n",
       "min      2.900000    1.129600    1.000000  187.000000   12.600000    0.320000   \n",
       "25%     45.025000    2.100175    4.000000  279.000000   17.400000  375.377500   \n",
       "50%     77.500000    3.207450    5.000000  330.000000   19.050000  391.440000   \n",
       "75%     94.075000    5.188425   24.000000  666.000000   20.200000  396.225000   \n",
       "max    100.000000   12.126500   24.000000  711.000000   22.000000  396.900000   \n",
       "\n",
       "            LSTAT        MEDV  \n",
       "count  506.000000  506.000000  \n",
       "mean    12.653063   22.532806  \n",
       "std      7.141062    9.197104  \n",
       "min      1.730000    5.000000  \n",
       "25%      6.950000   17.025000  \n",
       "50%     11.360000   21.200000  \n",
       "75%     16.955000   25.000000  \n",
       "max     37.970000   50.000000  "
      ]
     },
     "execution_count": 5,
     "metadata": {},
     "output_type": "execute_result"
    }
   ],
   "source": [
    "data.describe()"
   ]
  },
  {
   "cell_type": "code",
   "execution_count": 6,
   "metadata": {},
   "outputs": [
    {
     "name": "stdout",
     "output_type": "stream",
     "text": [
      "Treino:  354\n",
      "Validação:  76\n",
      "Teste:  76\n"
     ]
    }
   ],
   "source": [
    "# Divisão da base entre treino, validação e teste\n",
    "# Treino = 70%\n",
    "# Validação = 15%\n",
    "# Teste = 15%\n",
    "X = data.drop(\"MEDV\", axis=1)\n",
    "y = data['MEDV']\n",
    "\n",
    "np.random.seed(42)\n",
    "\n",
    "train_ratio = 0.7\n",
    "validation_ratio = 0.15\n",
    "test_ratio = 0.15\n",
    "\n",
    "# train is now 75% of the entire data set\n",
    "# the _junk suffix means that we drop that variable completely\n",
    "X_train, X_test, y_train, y_test = train_test_split(X, y, test_size=1 - train_ratio)\n",
    "\n",
    "# test is now 10% of the initial data set\n",
    "# validation is now 15% of the initial data set\n",
    "X_val, X_test, y_val, y_test = train_test_split(X_test, y_test, test_size=test_ratio/(test_ratio + validation_ratio)) \n",
    "\n",
    "print(\"Treino: \", len(X_train))\n",
    "print(\"Validação: \", len(X_val))\n",
    "print(\"Teste: \", len(X_test))"
   ]
  },
  {
   "cell_type": "code",
   "execution_count": 7,
   "metadata": {},
   "outputs": [],
   "source": [
    "# Criação do modelo\n",
    "model = Sequential()\n",
    "\n",
    "# Camada de entrada\n",
    "model.add(Input(shape=(X_train.shape[1],)))\n",
    "\n",
    "# Camada profunda\n",
    "model.add(Dense(5, activation='sigmoid'))\n",
    "\n",
    "#Camada de saída\n",
    "model.add(Dense(1, activation='linear'))"
   ]
  },
  {
   "cell_type": "code",
   "execution_count": 8,
   "metadata": {},
   "outputs": [],
   "source": [
    "model.compile(optimizer=tf.keras.optimizers.Adamax(),\n",
    "              loss='mean_squared_error')"
   ]
  },
  {
   "cell_type": "code",
   "execution_count": 9,
   "metadata": {},
   "outputs": [],
   "source": [
    "class EarlyStoppingByLossVal(Callback):\n",
    "    def __init__(self, monitor='val_loss', value=13.1, verbose=0):\n",
    "        super(Callback, self).__init__()\n",
    "        self.monitor = monitor\n",
    "        self.value = value\n",
    "        self.verbose = verbose\n",
    "\n",
    "    def on_epoch_end(self, epoch, logs={}):\n",
    "        current = logs.get(self.monitor)\n",
    "        if current is None:\n",
    "            warnings.warn(\"Early stopping requires %s available!\" % self.monitor, RuntimeWarning)\n",
    "\n",
    "        if current < self.value:\n",
    "            if self.verbose > 0:\n",
    "                print(\"Epoch %05d: early stopping THR\" % epoch)\n",
    "            self.model.stop_training = True"
   ]
  },
  {
   "cell_type": "code",
   "execution_count": 10,
   "metadata": {},
   "outputs": [
    {
     "name": "stdout",
     "output_type": "stream",
     "text": [
      "Epoch 1/20\n",
      "12/12 [==============================] - 1s 58ms/step - damping_factor: 1.0000e-10 - attempts: 1.0000 - loss: 543.4068 - mean_squared_error: 556.1065 - val_loss: 431.4486 - val_mean_squared_error: 431.4486\n",
      "Epoch 2/20\n",
      "12/12 [==============================] - 0s 24ms/step - damping_factor: 1.0000e-10 - attempts: 1.0000 - loss: 0.0000e+00 - mean_squared_error: 442.3138 - val_loss: 335.6825 - val_mean_squared_error: 335.6825\n",
      "Epoch 3/20\n",
      "12/12 [==============================] - 0s 24ms/step - damping_factor: 1.0000e-10 - attempts: 1.0000 - loss: 0.0000e+00 - mean_squared_error: 355.7037 - val_loss: 258.5175 - val_mean_squared_error: 258.5175\n",
      "Epoch 4/20\n",
      "12/12 [==============================] - 0s 23ms/step - damping_factor: 1.0000e-10 - attempts: 1.0000 - loss: 0.0000e+00 - mean_squared_error: 288.0910 - val_loss: 202.9572 - val_mean_squared_error: 202.9572\n",
      "Epoch 5/20\n",
      "12/12 [==============================] - 0s 25ms/step - damping_factor: 1.0000e-10 - attempts: 1.0000 - loss: 0.0000e+00 - mean_squared_error: 233.5708 - val_loss: 157.2718 - val_mean_squared_error: 157.2718\n",
      "Epoch 6/20\n",
      "12/12 [==============================] - 0s 24ms/step - damping_factor: 1.0000e-10 - attempts: 1.0000 - loss: 0.0000e+00 - mean_squared_error: 192.4965 - val_loss: 126.6431 - val_mean_squared_error: 126.6431\n",
      "Epoch 7/20\n",
      "12/12 [==============================] - 0s 24ms/step - damping_factor: 1.0000e-10 - attempts: 1.0000 - loss: 0.0000e+00 - mean_squared_error: 158.6243 - val_loss: 100.6194 - val_mean_squared_error: 100.6194\n",
      "Epoch 8/20\n",
      "12/12 [==============================] - 0s 24ms/step - damping_factor: 1.0000e-10 - attempts: 1.0000 - loss: 0.0000e+00 - mean_squared_error: 131.1190 - val_loss: 79.4537 - val_mean_squared_error: 79.4537\n",
      "Epoch 9/20\n",
      "12/12 [==============================] - 0s 23ms/step - damping_factor: 1.0000e-10 - attempts: 1.0000 - loss: 0.0000e+00 - mean_squared_error: 108.6076 - val_loss: 61.6182 - val_mean_squared_error: 61.6182\n",
      "Epoch 10/20\n",
      "12/12 [==============================] - 0s 26ms/step - damping_factor: 1.0000e-10 - attempts: 1.0000 - loss: 0.0000e+00 - mean_squared_error: 88.3502 - val_loss: 47.4955 - val_mean_squared_error: 47.4955\n",
      "Epoch 11/20\n",
      "12/12 [==============================] - 0s 25ms/step - damping_factor: 1.0000e-10 - attempts: 1.0000 - loss: 0.0000e+00 - mean_squared_error: 71.6838 - val_loss: 39.4468 - val_mean_squared_error: 39.4468\n",
      "Epoch 12/20\n",
      "12/12 [==============================] - 0s 26ms/step - damping_factor: 1.0000e-10 - attempts: 1.0000 - loss: 0.0000e+00 - mean_squared_error: 60.8278 - val_loss: 32.5355 - val_mean_squared_error: 32.5355\n",
      "Epoch 13/20\n",
      "12/12 [==============================] - 0s 25ms/step - damping_factor: 1.0000e-10 - attempts: 1.0000 - loss: 0.0000e+00 - mean_squared_error: 50.8477 - val_loss: 26.5544 - val_mean_squared_error: 26.5544\n",
      "Epoch 14/20\n",
      "12/12 [==============================] - 0s 25ms/step - damping_factor: 1.0000e-10 - attempts: 1.0000 - loss: 0.0000e+00 - mean_squared_error: 43.4125 - val_loss: 22.1923 - val_mean_squared_error: 22.1923\n",
      "Epoch 15/20\n",
      "12/12 [==============================] - 0s 25ms/step - damping_factor: 1.0000e-10 - attempts: 1.0000 - loss: 0.0000e+00 - mean_squared_error: 37.0057 - val_loss: 18.3371 - val_mean_squared_error: 18.3371\n",
      "Epoch 16/20\n",
      "12/12 [==============================] - 0s 23ms/step - damping_factor: 1.0000e-10 - attempts: 1.0000 - loss: 0.0000e+00 - mean_squared_error: 32.7731 - val_loss: 17.0204 - val_mean_squared_error: 17.0204\n",
      "Epoch 17/20\n",
      "12/12 [==============================] - 0s 30ms/step - damping_factor: 1.0000e-10 - attempts: 1.0000 - loss: 0.0000e+00 - mean_squared_error: 28.9930 - val_loss: 15.5994 - val_mean_squared_error: 15.5994\n",
      "Epoch 18/20\n",
      "12/12 [==============================] - 0s 23ms/step - damping_factor: 1.0000e-10 - attempts: 1.0000 - loss: 0.0000e+00 - mean_squared_error: 26.0423 - val_loss: 15.2259 - val_mean_squared_error: 15.2259\n",
      "Epoch 19/20\n",
      "12/12 [==============================] - 0s 35ms/step - damping_factor: 1.0000e-10 - attempts: 1.0000 - loss: 0.0000e+00 - mean_squared_error: 24.8793 - val_loss: 14.3742 - val_mean_squared_error: 14.3742\n",
      "Epoch 20/20\n",
      "12/12 [==============================] - 0s 28ms/step - damping_factor: 1.0000e-10 - attempts: 1.0000 - loss: 0.0000e+00 - mean_squared_error: 23.5850 - val_loss: 14.6770 - val_mean_squared_error: 14.6770\n"
     ]
    }
   ],
   "source": [
    "from sklearn.preprocessing import MinMaxScaler\n",
    "\n",
    "# Fit\n",
    "model_wrapper = lm.ModelWrapper(model)\n",
    "model_wrapper.compile(optimizer = tf.keras.optimizers.SGD(),\n",
    "                      loss = lm.MeanSquaredError(),\n",
    "                      metrics=['mean_squared_error']\n",
    "                      )\n",
    "\n",
    "scaler = MinMaxScaler(feature_range=(0, 1)) \n",
    "X_train_edited = scaler.fit_transform(X_train)\n",
    "X_val_edited = scaler.fit_transform(X_val)\n",
    "\n",
    "stop_training = EarlyStoppingByLossVal()\n",
    "\n",
    "\n",
    "start_time = time.time()\n",
    "model_fitted = model_wrapper.fit(X_train_edited, y_train, #X_train_edited, y_train_edited\n",
    "                                 epochs=20,\n",
    "                                 validation_data=(X_val_edited, y_val),\n",
    "                                 #callbacks=[stop_training]\n",
    "                                 )\n",
    "\n",
    "end_time = time.time()"
   ]
  },
  {
   "cell_type": "code",
   "execution_count": 11,
   "metadata": {},
   "outputs": [
    {
     "name": "stdout",
     "output_type": "stream",
     "text": [
      "Tempo de compilação: 7.0067315101623535 segundos\n"
     ]
    },
    {
     "data": {
      "image/png": "[encoded data removed]",
      "text/plain": [
       "<Figure size 432x288 with 1 Axes>"
      ]
     },
     "metadata": {
      "needs_background": "light"
     },
     "output_type": "display_data"
    }
   ],
   "source": [
    "import matplotlib.pyplot as plt \n",
    "\n",
    "plt.plot(model_fitted.history['val_mean_squared_error'], label='Validação')\n",
    "plt.plot(model_fitted.history['mean_squared_error'], label='Treinamento')\n",
    "plt.legend()\n",
    "\n",
    "print(f'Tempo de compilação: {end_time - start_time} segundos')"
   ]
  },
  {
   "cell_type": "markdown",
   "metadata": {},
   "source": [
    "Uso do Boruta-Schap"
   ]
  },
  {
   "cell_type": "code",
   "execution_count": 12,
   "metadata": {},
   "outputs": [
    {
     "name": "stderr",
     "output_type": "stream",
     "text": [
      "100%|██████████| 20/20 [00:49<00:00,  2.46s/it]"
     ]
    },
    {
     "name": "stdout",
     "output_type": "stream",
     "text": [
      "9 attributes confirmed important: ['PTRATIO', 'AGE', 'CRIM', 'TAX', 'LSTAT', 'B', 'DIS', 'NOX', 'RM']\n",
      "3 attributes confirmed unimportant: ['ZN', 'RAD', 'CHAS']\n",
      "1 tentative attributes remains: ['INDUS']\n"
     ]
    },
    {
     "name": "stderr",
     "output_type": "stream",
     "text": [
      "\n"
     ]
    }
   ],
   "source": [
    "Feature_Selector = BorutaShap(importance_measure='shap',\n",
    "                              classification=False)\n",
    "                    \n",
    "Feature_Selector.fit(X=X_train, y=y_train, n_trials=20, sample=False,\n",
    "            \t     train_or_test = 'train', normalize=True,\n",
    "\t\t             verbose=True)"
   ]
  },
  {
   "cell_type": "code",
   "execution_count": 13,
   "metadata": {},
   "outputs": [
    {
     "data": {
      "image/png": "[encoded data removed]",
      "text/plain": [
       "<Figure size 864x576 with 1 Axes>"
      ]
     },
     "metadata": {
      "needs_background": "light"
     },
     "output_type": "display_data"
    }
   ],
   "source": [
    "fig = Feature_Selector.plot(which_features='all') # Plot das features mais importantes\n"
   ]
  },
  {
   "cell_type": "code",
   "execution_count": 14,
   "metadata": {},
   "outputs": [
    {
     "name": "stdout",
     "output_type": "stream",
     "text": [
      "Colunas originais:\n",
      "Index(['CRIM', 'ZN', 'INDUS', 'CHAS', 'NOX', 'RM', 'AGE', 'DIS', 'RAD', 'TAX',\n",
      "       'PTRATIO', 'B', 'LSTAT'],\n",
      "      dtype='object')\n",
      "\n",
      "\n",
      "\n",
      "Colunas mais importantes:\n",
      "Index(['PTRATIO', 'AGE', 'CRIM', 'TAX', 'LSTAT', 'B', 'DIS', 'NOX', 'RM'], dtype='object')\n"
     ]
    }
   ],
   "source": [
    "print(\"Colunas originais:\")\n",
    "print(X_train.columns)\n",
    "\n",
    "print('\\n\\n')\n",
    "\n",
    "print(\"Colunas mais importantes:\")\n",
    "used_cols = Feature_Selector.Subset().columns\n",
    "print(used_cols)"
   ]
  },
  {
   "cell_type": "code",
   "execution_count": 15,
   "metadata": {},
   "outputs": [],
   "source": [
    "X_train_bs, X_val_bs, X_test_bs = X_train[Feature_Selector.Subset().columns], X_val[Feature_Selector.Subset().columns], X_test[Feature_Selector.Subset().columns]"
   ]
  },
  {
   "cell_type": "code",
   "execution_count": 16,
   "metadata": {},
   "outputs": [],
   "source": [
    "# Criação do modelo\n",
    "model = Sequential()\n",
    "\n",
    "# Camada de entrada\n",
    "model.add(Input(shape=(X_train_bs.shape[1],)))\n",
    "\n",
    "# Camada profunda\n",
    "model.add(Dense(5, activation='sigmoid'))\n",
    "\n",
    "#Camada de saída\n",
    "model.add(Dense(1, activation='linear'))"
   ]
  },
  {
   "cell_type": "code",
   "execution_count": 17,
   "metadata": {},
   "outputs": [],
   "source": [
    "model.compile(optimizer=tf.keras.optimizers.Adamax(),\n",
    "              loss='mean_squared_error')"
   ]
  },
  {
   "cell_type": "code",
   "execution_count": 18,
   "metadata": {},
   "outputs": [
    {
     "name": "stdout",
     "output_type": "stream",
     "text": [
      "Epoch 1/20\n",
      "12/12 [==============================] - 1s 44ms/step - damping_factor: 1.0000e-07 - attempts: 1.0000 - loss: 515.3522 - mean_squared_error: 537.5980 - val_loss: 417.4479 - val_mean_squared_error: 417.4479\n",
      "Epoch 2/20\n",
      "12/12 [==============================] - 0s 14ms/step - damping_factor: 1.0000e-10 - attempts: 1.0000 - loss: 0.0000e+00 - mean_squared_error: 433.2713 - val_loss: 313.8446 - val_mean_squared_error: 313.8446\n",
      "Epoch 3/20\n",
      "12/12 [==============================] - 0s 11ms/step - damping_factor: 1.0000e-10 - attempts: 1.0000 - loss: 0.0000e+00 - mean_squared_error: 344.4662 - val_loss: 240.8717 - val_mean_squared_error: 240.8717\n",
      "Epoch 4/20\n",
      "12/12 [==============================] - 0s 12ms/step - damping_factor: 1.0000e-10 - attempts: 1.0000 - loss: 0.0000e+00 - mean_squared_error: 278.8754 - val_loss: 181.4006 - val_mean_squared_error: 181.4006\n",
      "Epoch 5/20\n",
      "12/12 [==============================] - 0s 34ms/step - damping_factor: 1.0000e-10 - attempts: 1.0000 - loss: 0.0000e+00 - mean_squared_error: 224.6167 - val_loss: 140.8705 - val_mean_squared_error: 140.8705\n",
      "Epoch 6/20\n",
      "12/12 [==============================] - 0s 15ms/step - damping_factor: 1.0000e-10 - attempts: 1.0000 - loss: 0.0000e+00 - mean_squared_error: 182.4476 - val_loss: 105.3748 - val_mean_squared_error: 105.3748\n",
      "Epoch 7/20\n",
      "12/12 [==============================] - 0s 12ms/step - damping_factor: 1.0000e-10 - attempts: 1.0000 - loss: 0.0000e+00 - mean_squared_error: 147.7969 - val_loss: 82.4721 - val_mean_squared_error: 82.4721\n",
      "Epoch 8/20\n",
      "12/12 [==============================] - 0s 11ms/step - damping_factor: 1.0000e-10 - attempts: 1.0000 - loss: 0.0000e+00 - mean_squared_error: 120.5602 - val_loss: 65.3370 - val_mean_squared_error: 65.3370\n",
      "Epoch 9/20\n",
      "12/12 [==============================] - 0s 11ms/step - damping_factor: 1.0000e-10 - attempts: 1.0000 - loss: 0.0000e+00 - mean_squared_error: 100.4118 - val_loss: 50.5106 - val_mean_squared_error: 50.5106\n",
      "Epoch 10/20\n",
      "12/12 [==============================] - 0s 11ms/step - damping_factor: 1.0000e-10 - attempts: 1.0000 - loss: 0.0000e+00 - mean_squared_error: 82.6307 - val_loss: 39.6389 - val_mean_squared_error: 39.6389\n",
      "Epoch 11/20\n",
      "12/12 [==============================] - 0s 11ms/step - damping_factor: 1.0000e-10 - attempts: 1.0000 - loss: 0.0000e+00 - mean_squared_error: 69.0313 - val_loss: 33.2802 - val_mean_squared_error: 33.2802\n",
      "Epoch 12/20\n",
      "12/12 [==============================] - 0s 11ms/step - damping_factor: 1.0000e-10 - attempts: 1.0000 - loss: 0.0000e+00 - mean_squared_error: 58.6193 - val_loss: 26.6011 - val_mean_squared_error: 26.6011\n",
      "Epoch 13/20\n",
      "12/12 [==============================] - 0s 12ms/step - damping_factor: 1.0000e-10 - attempts: 1.0000 - loss: 0.0000e+00 - mean_squared_error: 49.3583 - val_loss: 22.5877 - val_mean_squared_error: 22.5877\n",
      "Epoch 14/20\n",
      "12/12 [==============================] - 0s 11ms/step - damping_factor: 1.0000e-10 - attempts: 1.0000 - loss: 0.0000e+00 - mean_squared_error: 41.9819 - val_loss: 20.1942 - val_mean_squared_error: 20.1942\n",
      "Epoch 15/20\n",
      "12/12 [==============================] - 0s 11ms/step - damping_factor: 1.0000e-10 - attempts: 1.0000 - loss: 0.0000e+00 - mean_squared_error: 36.1176 - val_loss: 17.5233 - val_mean_squared_error: 17.5233\n",
      "Epoch 16/20\n",
      "12/12 [==============================] - 0s 10ms/step - damping_factor: 1.0000e-10 - attempts: 1.0000 - loss: 0.0000e+00 - mean_squared_error: 31.0762 - val_loss: 15.9266 - val_mean_squared_error: 15.9266\n",
      "Epoch 17/20\n",
      "12/12 [==============================] - 0s 11ms/step - damping_factor: 1.0000e-10 - attempts: 1.0000 - loss: 0.0000e+00 - mean_squared_error: 27.3226 - val_loss: 14.7496 - val_mean_squared_error: 14.7496\n",
      "Epoch 18/20\n",
      "12/12 [==============================] - 0s 23ms/step - damping_factor: 1.0000e-10 - attempts: 1.0000 - loss: 0.0000e+00 - mean_squared_error: 24.4992 - val_loss: 14.3438 - val_mean_squared_error: 14.3438\n",
      "Epoch 19/20\n",
      "12/12 [==============================] - 0s 25ms/step - damping_factor: 1.0000e-10 - attempts: 1.0000 - loss: 0.0000e+00 - mean_squared_error: 22.4807 - val_loss: 14.5228 - val_mean_squared_error: 14.5228\n",
      "Epoch 20/20\n",
      "12/12 [==============================] - 0s 13ms/step - damping_factor: 1.0000e-10 - attempts: 1.0000 - loss: 0.0000e+00 - mean_squared_error: 20.7814 - val_loss: 14.4065 - val_mean_squared_error: 14.4065\n"
     ]
    }
   ],
   "source": [
    "# Fit\n",
    "model_wrapper = lm.ModelWrapper(model)\n",
    "model_wrapper.compile(optimizer = tf.keras.optimizers.SGD(),\n",
    "                      loss = lm.MeanSquaredError(),\n",
    "                      metrics=['mean_squared_error']\n",
    "                      )\n",
    "\n",
    "scaler = MinMaxScaler(feature_range=(0, 1)) \n",
    "X_train_edited = scaler.fit_transform(X_train_bs)\n",
    "X_val_edited = scaler.fit_transform(X_val_bs)\n",
    "\n",
    "stop_training = EarlyStoppingByLossVal()\n",
    "\n",
    "start_time = time.time()\n",
    "model_fitted = model_wrapper.fit(X_train_edited, y_train,\n",
    "                                 epochs=20,\n",
    "                                 validation_data=(X_val_edited, y_val),\n",
    "                                 #callbacks=[stop_training]\n",
    "                                 )\n",
    "end_time = time.time()"
   ]
  },
  {
   "cell_type": "code",
   "execution_count": 19,
   "metadata": {},
   "outputs": [
    {
     "name": "stdout",
     "output_type": "stream",
     "text": [
      "Tempo de compilação: 4.085136890411377 segundos\n"
     ]
    },
    {
     "data": {
      "image/png": "[encoded data removed]",
      "text/plain": [
       "<Figure size 432x288 with 1 Axes>"
      ]
     },
     "metadata": {
      "needs_background": "light"
     },
     "output_type": "display_data"
    }
   ],
   "source": [
    "plt.plot(model_fitted.history['val_loss'], label='Validação')\n",
    "plt.plot(model_fitted.history['mean_squared_error'], label='Treinamento')\n",
    "plt.legend()\n",
    "\n",
    "print(f'Tempo de compilação: {end_time - start_time} segundos')"
   ]
  },
  {
   "cell_type": "code",
   "execution_count": null,
   "metadata": {},
   "outputs": [],
   "source": []
  }
 ],
 "metadata": {
  "interpreter": {
   "hash": "e7370f93d1d0cde622a1f8e1c04877d8463912d04d973331ad4851f04de6915a"
  },
  "kernelspec": {
   "display_name": "Python 3.10.0 64-bit",
   "language": "python",
   "name": "python3"
  },
  "language_info": {
   "codemirror_mode": {
    "name": "ipython",
    "version": 3
   },
   "file_extension": ".py",
   "mimetype": "text/x-python",
   "name": "python",
   "nbconvert_exporter": "python",
   "pygments_lexer": "ipython3",
   "version": "3.8.8"
  },
  "orig_nbformat": 4
 },
 "nbformat": 4,
 "nbformat_minor": 2
}
